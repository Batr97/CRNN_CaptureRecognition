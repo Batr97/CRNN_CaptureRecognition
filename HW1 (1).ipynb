{
  "cells": [
    {
      "cell_type": "markdown",
      "metadata": {
        "id": "VnibsFibU2Bl"
      },
      "source": [
        "# Подготовка данных"
      ]
    },
    {
      "cell_type": "code",
      "execution_count": 1,
      "metadata": {
        "id": "SHH_hdPoN1Uc"
      },
      "outputs": [],
      "source": [
        "import torch \n",
        "from torch.utils.data import Dataset, DataLoader\n",
        "import torchvision.transforms as transforms\n",
        "import torch.nn as nn\n",
        "import torch.nn.functional as F\n",
        "from torchsummary import summary\n",
        "import glob\n",
        "from tqdm import tqdm\n",
        "from sklearn import preprocessing\n",
        "from sklearn.model_selection import train_test_split\n",
        "from sklearn.metrics import accuracy_score\n",
        "import os\n",
        "import cv2 as cv \n",
        "import matplotlib.pyplot as plt\n",
        "import numpy as np \n",
        "import pandas as pd\n",
        "from PIL import Image"
      ]
    },
    {
      "cell_type": "code",
      "execution_count": 2,
      "metadata": {
        "colab": {
          "base_uri": "https://localhost:8080/"
        },
        "id": "GKUOTiHoKy-U",
        "outputId": "e1e0e457-ab72-4de4-f6c2-15f69c96458f"
      },
      "outputs": [
        {
          "name": "stdout",
          "output_type": "stream",
          "text": [
            "Mounted at /content/gdrive/\n"
          ]
        }
      ],
      "source": [
        "from google.colab import drive\n",
        "\n",
        "drive.mount('/content/gdrive/', force_remount=True)"
      ]
    },
    {
      "cell_type": "code",
      "execution_count": 3,
      "metadata": {
        "id": "s3EsTTNDM0-n"
      },
      "outputs": [],
      "source": [
        "# !unzip /content/gdrive/MyDrive/MADE/DL_intensive/laba-dataset.zip -d /content/gdrive/MyDrive/MADE/DL_intensive/laba_dataset"
      ]
    },
    {
      "cell_type": "code",
      "execution_count": 8,
      "metadata": {
        "id": "CuHLXPoGc9Pr"
      },
      "outputs": [],
      "source": [
        "def normalize(arr):\n",
        "    \"\"\"\n",
        "    Linear normalization\n",
        "    http://en.wikipedia.org/wiki/Normalization_%28image_processing%29\n",
        "    \"\"\"\n",
        "    arr = arr.astype('float')\n",
        "    # Do not touch the alpha channel\n",
        "    for i in range(3):\n",
        "        minval = arr[...,i].min()\n",
        "        maxval = arr[...,i].max()\n",
        "        if minval != maxval:\n",
        "            arr[...,i] -= minval\n",
        "            arr[...,i] *= (255.0/(maxval-minval))\n",
        "    return arr\n",
        "\n",
        "def batch_mean_and_sd(loader):\n",
        "    \n",
        "    cnt = 0\n",
        "    fst_moment = torch.empty(3)\n",
        "    snd_moment = torch.empty(3)\n",
        "\n",
        "    for images, _ in loader:\n",
        "        b, c, h, w = images.shape\n",
        "        nb_pixels = b * h * w\n",
        "        sum_ = torch.sum(images, dim=[0, 2, 3])\n",
        "        sum_of_square = torch.sum(images ** 2,\n",
        "                                  dim=[0, 2, 3])\n",
        "        fst_moment = (cnt * fst_moment + sum_) / (\n",
        "                      cnt + nb_pixels)\n",
        "        snd_moment = (cnt * snd_moment + sum_of_square) / (\n",
        "                            cnt + nb_pixels)\n",
        "        cnt += nb_pixels\n",
        "\n",
        "    mean, std = fst_moment, torch.sqrt(\n",
        "      snd_moment - fst_moment ** 2)        \n",
        "    return mean,std"
      ]
    },
    {
      "cell_type": "code",
      "execution_count": 9,
      "metadata": {
        "id": "sm2G9oKljna0"
      },
      "outputs": [],
      "source": [
        "transform_img = transforms.Compose([\n",
        "    transforms.ToTensor(),\n",
        "    # here do not use transforms.Normalize(mean, std)\n",
        "])"
      ]
    },
    {
      "cell_type": "code",
      "execution_count": 10,
      "metadata": {
        "id": "4NH8lRhzOrQk"
      },
      "outputs": [],
      "source": [
        "path = '/content/gdrive/MyDrive/MADE/DL_intensive/laba_dataset/samples'\n",
        "\n",
        "class CustomDataset(Dataset):\n",
        "    def __init__(self, path, targets, transform = None):\n",
        "        self.imgs_path = path\n",
        "        self.file_list = path\n",
        "        self.targets = targets\n",
        "        self.transform = transform\n",
        "        \n",
        "    def __len__(self):\n",
        "        return len(self.file_list)\n",
        "\n",
        "    def __getitem__(self, idx):\n",
        "        path = self.file_list[idx]\n",
        "        # img = cv.imread(path) \n",
        "        img = Image.open(path)\n",
        "        img = img.convert('RGB')\n",
        "        img = np.array(img) \n",
        "        label = self.targets[idx]\n",
        "        # mean = img.mean()\n",
        "        # std = img.std()\n",
        "        # img = (img - mean) / std\n",
        "        # img = torch.from_numpy(img)\n",
        "        # img=img.float()\n",
        "        if self.transform:\n",
        "          img = self.transform(img)\n",
        "        \n",
        "        # return {\n",
        "        #     \"images\": torch.tensor(img, dtype=torch.float),\n",
        "        #     \"targets\": torch.tensor(label, dtype=torch.long),\n",
        "        # }\n",
        "        return torch.tensor(img, dtype=torch.float), torch.tensor(label, dtype=torch.long)\n",
        "\n",
        "# dataset = CustomDataset(path, transform_img)\n",
        "# dataloader = DataLoader(dataset, batch_size=4, pin_memory=True)"
      ]
    },
    {
      "cell_type": "code",
      "execution_count": 7,
      "metadata": {
        "colab": {
          "base_uri": "https://localhost:8080/",
          "height": 200
        },
        "id": "Cn9QMVfHzv5U",
        "outputId": "7a05173a-769a-4ab5-a72b-6a792d18ad93"
      },
      "outputs": [
        {
          "ename": "NameError",
          "evalue": "ignored",
          "output_type": "error",
          "traceback": [
            "\u001b[0;31m---------------------------------------------------------------------------\u001b[0m",
            "\u001b[0;31mNameError\u001b[0m                                 Traceback (most recent call last)",
            "\u001b[0;32m<ipython-input-7-e3028835e3ad>\u001b[0m in \u001b[0;36m<module>\u001b[0;34m\u001b[0m\n\u001b[1;32m      1\u001b[0m \u001b[0;31m# lets calculate mean and std for the dataaset\u001b[0m\u001b[0;34m\u001b[0m\u001b[0;34m\u001b[0m\u001b[0;34m\u001b[0m\u001b[0m\n\u001b[0;32m----> 2\u001b[0;31m \u001b[0mmean\u001b[0m\u001b[0;34m,\u001b[0m \u001b[0mstd\u001b[0m \u001b[0;34m=\u001b[0m \u001b[0mbatch_mean_and_sd\u001b[0m\u001b[0;34m(\u001b[0m\u001b[0mdataloader\u001b[0m\u001b[0;34m)\u001b[0m\u001b[0;34m\u001b[0m\u001b[0;34m\u001b[0m\u001b[0m\n\u001b[0m\u001b[1;32m      3\u001b[0m \u001b[0mprint\u001b[0m\u001b[0;34m(\u001b[0m\u001b[0;34m\"mean and std: \\n\"\u001b[0m\u001b[0;34m,\u001b[0m \u001b[0mmean\u001b[0m\u001b[0;34m,\u001b[0m \u001b[0mstd\u001b[0m\u001b[0;34m)\u001b[0m\u001b[0;34m\u001b[0m\u001b[0;34m\u001b[0m\u001b[0m\n",
            "\u001b[0;31mNameError\u001b[0m: name 'dataloader' is not defined"
          ]
        }
      ],
      "source": [
        "# lets calculate mean and std for the dataaset\n",
        "mean, std = batch_mean_and_sd(dataloader)\n",
        "print(\"mean and std: \\n\", mean, std)"
      ]
    },
    {
      "cell_type": "code",
      "execution_count": 11,
      "metadata": {
        "id": "0iWYPyLk1hM5"
      },
      "outputs": [],
      "source": [
        "transform_img_normal = transforms.Compose([\n",
        "    transforms.ToTensor(),\n",
        "    transforms.Normalize(mean = [0.7152, 0.7152, 0.7152],\n",
        "                         std= [0.3137, 0.3137, 0.3137])\n",
        "])\n",
        "\n",
        "# dataset = CustomDataset(path, transform_img_normal)\n",
        "# dataloader = DataLoader(dataset, batch_size=4, pin_memory=True)"
      ]
    },
    {
      "cell_type": "code",
      "execution_count": 12,
      "metadata": {
        "id": "n8DF_OZr3eQ7"
      },
      "outputs": [],
      "source": [
        "# train_size = int(0.75 * len(dataset))\n",
        "# test_size = len(dataset) - train_size\n",
        "\n",
        "image_files = glob.glob(os.path.join(path, \"*.png\"))\n",
        "targets_orig = [x.split('/')[-1].split('.')[0] for x in image_files]\n",
        "targets = [[c for c in x] for x in targets_orig]\n",
        "targets_flat = [c for clist in targets for c in clist]\n",
        "\n",
        "lbl_enc = preprocessing.LabelEncoder()\n",
        "lbl_enc.fit(targets_flat)\n",
        "targets_enc = [lbl_enc.transform(x) for x in targets]\n",
        "targets_enc = np.array(targets_enc)\n",
        "targets_enc = targets_enc + 1\n",
        "\n",
        "train_imgs, test_imgs, train_targets, test_targets, _, test_targets_orig = train_test_split(image_files, targets_enc, targets_orig, test_size=0.1, random_state=42)\n",
        "\n",
        "train_dataset = CustomDataset(train_imgs, train_targets, transform_img_normal)\n",
        "\n",
        "train_loader = dataloader = DataLoader(train_dataset, batch_size=4, pin_memory=True, shuffle=True)\n",
        "# torch.utils.data.DataLoader(\n",
        "#     train_dataset,\n",
        "#     batch_size=config.BATCH_SIZE,\n",
        "#     num_workers=config.NUM_WORKERS,\n",
        "#     shuffle=True,\n",
        "# )\n",
        "test_dataset = CustomDataset(test_imgs, test_targets, transform_img_normal)\n",
        "\n",
        "# dataset.ClassificationDataset(\n",
        "#     image_paths=test_imgs,\n",
        "#     targets=test_targets,\n",
        "#     resize=(config.IMAGE_HEIGHT, config.IMAGE_WIDTH),\n",
        "# )\n",
        "test_loader = DataLoader(test_dataset, batch_size=4, pin_memory=True, shuffle=False)\n",
        "# torch.utils.data.DataLoader(\n",
        "#     test_dataset,\n",
        "#     batch_size=config.BATCH_SIZE,\n",
        "#     num_workers=config.NUM_WORKERS,\n",
        "#     shuffle=False,\n",
        "# )\n",
        "\n",
        "\n",
        "# train_dataset, test_dataset = torch.utils.data.random_split(dataset, [train_size, test_size])\n",
        "# train_loader = DataLoader(train_dataset, batch_size=4, pin_memory=True)\n",
        "# test_loader = DataLoader(test_dataset, batch_size=4, pin_memory=True)"
      ]
    },
    {
      "cell_type": "code",
      "execution_count": 13,
      "metadata": {
        "colab": {
          "base_uri": "https://localhost:8080/",
          "height": 311
        },
        "id": "O5-JXCADOrjk",
        "outputId": "83f9b7d3-1a53-4d37-8c6d-c644646655b0"
      },
      "outputs": [
        {
          "name": "stderr",
          "output_type": "stream",
          "text": [
            "<ipython-input-10-6e3cd6adde2d>:32: UserWarning: To copy construct from a tensor, it is recommended to use sourceTensor.clone().detach() or sourceTensor.clone().detach().requires_grad_(True), rather than torch.tensor(sourceTensor).\n",
            "  return torch.tensor(img, dtype=torch.float), torch.tensor(label, dtype=torch.long)\n",
            "WARNING:matplotlib.image:Clipping input data to the valid range for imshow with RGB data ([0..1] for floats or [0..255] for integers).\n"
          ]
        },
        {
          "name": "stdout",
          "output_type": "stream",
          "text": [
            "images torch.Size([4, 3, 50, 200])\n",
            "Label: tensor([[ 3,  2, 13, 11, 19],\n",
            "        [19,  4, 10, 16, 16],\n",
            "        [ 2,  7, 15,  4,  6],\n",
            "        [ 4,  5, 15,  9, 18]])\n"
          ]
        },
        {
          "data": {
            "text/plain": [
              "<matplotlib.image.AxesImage at 0x7f1055473040>"
            ]
          },
          "execution_count": 13,
          "metadata": {},
          "output_type": "execute_result"
        },
        {
          "data": {
            "image/png": "[encoded data removed]",
            "text/plain": [
              "<Figure size 432x288 with 1 Axes>"
            ]
          },
          "metadata": {
            "needs_background": "light"
          },
          "output_type": "display_data"
        }
      ],
      "source": [
        "# Display image and label.\n",
        "data = next(iter(train_loader))\n",
        "# img = data['images']\n",
        "# label = data['targets']\n",
        "img = data[0]\n",
        "label = data[1]\n",
        "\n",
        "print('images', img.shape)\n",
        "print(f\"Label: {label}\")\n",
        "plt.imshow(img[0].permute(1,2,0))"
      ]
    },
    {
      "cell_type": "markdown",
      "metadata": {
        "id": "IXOp39Gw4aKn"
      },
      "source": [
        "# Создание и обучение модели"
      ]
    },
    {
      "cell_type": "code",
      "execution_count": null,
      "metadata": {
        "id": "shTBThkR7z5v"
      },
      "outputs": [],
      "source": [
        "'''\n",
        "predictions after model are the same as for indus, so make the function decoder the same as he\n",
        "'''"
      ]
    },
    {
      "cell_type": "code",
      "execution_count": 14,
      "metadata": {
        "id": "OF9kJOM6g0EA"
      },
      "outputs": [],
      "source": [
        "device = torch.device('cuda' if torch.cuda.is_available() else 'cpu')\n",
        "alphabet = '0123456789abcdefghijklmnopqrstuvwxyz'\n",
        "alph = lbl_enc.classes_\n",
        "n_classes = len(alph) + 1"
      ]
    },
    {
      "cell_type": "code",
      "execution_count": 15,
      "metadata": {
        "id": "tab1_rNto2u2"
      },
      "outputs": [],
      "source": [
        "def train_fn(model, data_loader, optimizer):\n",
        "    model.train()\n",
        "    fin_loss = 0\n",
        "    tk0 = tqdm(data_loader, total=len(data_loader))\n",
        "    for data in tk0:\n",
        "        data[0] = data[0].to(device)\n",
        "        data[1] = data[1].to(device)\n",
        "        optimizer.zero_grad()\n",
        "        out, loss = model(data[0], data[1])\n",
        "        loss.backward()\n",
        "        nn.utils.clip_grad_value_(model.parameters(), clip_value=1.0)\n",
        "        optimizer.step()\n",
        "        fin_loss += loss.item()\n",
        "    return fin_loss / len(data_loader)\n",
        "\n",
        "\n",
        "def eval_fn(model, data_loader):\n",
        "    model.eval()\n",
        "    fin_loss = 0\n",
        "    fin_preds = []\n",
        "    with torch.no_grad():\n",
        "      tk0 = tqdm(data_loader, total=len(data_loader))\n",
        "      for data in tk0:\n",
        "          data[0] = data[0].to(device)\n",
        "          data[1] = data[1].to(device)\n",
        "          batch_preds, loss = model(data[0], data[1])\n",
        "          fin_loss += loss.item()\n",
        "          fin_preds.append(batch_preds)\n",
        "      return fin_preds, fin_loss / len(data_loader)\n",
        "\n",
        "def train():\n",
        "  model = CRNN()\n",
        "  model.to(device)\n",
        "\n",
        "  optimizer = torch.optim.Adam(model.parameters(), lr=3e-4)\n",
        "  scheduler = torch.optim.lr_scheduler.ReduceLROnPlateau(\n",
        "      optimizer, factor=0.8, patience=5, verbose=True\n",
        "  )\n",
        "  for epoch in range(2):\n",
        "      train_loss = train_fn(model, train_loader, optimizer)\n",
        "      valid_preds, test_loss = eval_fn(model, test_loader)\n",
        "      valid_captcha_preds = []\n",
        "      for vp in valid_preds:\n",
        "          current_preds = decode_predictions(vp, lbl_enc)\n",
        "          valid_captcha_preds.extend(current_preds)\n",
        "      combined = list(zip(test_targets_orig, valid_captcha_preds))\n",
        "      print(combined[:10])\n",
        "      test_dup_rem = [remove_duplicates(c) for c in test_targets_orig]\n",
        "      accuracy = metrics.accuracy_score(test_dup_rem, valid_captcha_preds)\n",
        "      print(\n",
        "          f\"Epoch={epoch}, Train Loss={train_loss}, Test Loss={test_loss} Accuracy={accuracy}\"\n",
        "      )\n",
        "      scheduler.step(test_loss)\n",
        "\n",
        "def remove_duplicates(x):\n",
        "    if len(x) < 2:\n",
        "        return x\n",
        "    fin = \"\"\n",
        "    for j in x:\n",
        "        if fin == \"\":\n",
        "            fin = j\n",
        "        else:\n",
        "            if j == fin[-1]:\n",
        "                continue\n",
        "            else:\n",
        "                fin = fin + j\n",
        "    return fin\n",
        "\n",
        "def decode_predictions(preds, encoder):\n",
        "    preds = preds.permute(1, 0, 2)\n",
        "    # print('before softmax and after permuattion', preds.shape)\n",
        "    preds = torch.softmax(preds, 2)\n",
        "    # print('why softmax?', preds.shape)\n",
        "    # print('preds', preds[0])\n",
        "    preds = torch.argmax(preds, 2)\n",
        "    # print('preds.argmax', preds[0])\n",
        "    preds = preds.detach().cpu().numpy()\n",
        "    cap_preds = []\n",
        "    for j in range(preds.shape[0]):\n",
        "        temp = []\n",
        "        for k in preds[j, :]:\n",
        "            k = k - 1\n",
        "            if k == -1:\n",
        "                temp.append(\"§\")\n",
        "            else:\n",
        "                p = encoder.inverse_transform([k])[0]\n",
        "                temp.append(p)\n",
        "        tp = \"\".join(temp).replace(\"§\", \"\")\n",
        "        cap_preds.append(remove_duplicates(tp))\n",
        "    # print('temp', temp)\n",
        "    # print('tp', tp)\n",
        "\n",
        "    return cap_preds"
      ]
    },
    {
      "cell_type": "code",
      "execution_count": 16,
      "metadata": {
        "id": "uIl8Y1x6Orx6"
      },
      "outputs": [],
      "source": [
        "class BidirectionalLSTM(nn.Module):\n",
        "\n",
        "    def __init__(self, nIn, nHidden, nOut):\n",
        "        super(BidirectionalLSTM, self).__init__()\n",
        "\n",
        "        self.rnn = nn.LSTM(nIn, nHidden, bidirectional=True)\n",
        "        self.embedding = nn.Linear(nHidden * 2, nOut)\n",
        "\n",
        "    def forward(self, input):\n",
        "        recurrent, _ = self.rnn(input)\n",
        "        b, T, h = recurrent.size()\n",
        "        t_rec = recurrent.view(T * b, h)\n",
        "        # t_rec = recurrent.permute(1, 0 ,2)\n",
        "\n",
        "        output = self.embedding(t_rec)  # [T * b, nOut]\n",
        "        output = output.view(T, b, -1)\n",
        "\n",
        "        return output\n",
        "\n",
        "\n",
        "class CRNN(nn.Module):\n",
        "\n",
        "    def __init__(self):\n",
        "        super(CRNN, self).__init__()\n",
        "        self.conv1 = nn.Conv2d(3, 32, kernel_size=(3, 3), padding=1)\n",
        "        self.pool1 = nn.MaxPool2d(2, 2)\n",
        "        self.conv2 = nn.Conv2d(32, 64, kernel_size=(3, 3), padding=1)\n",
        "        self.pool2 = nn.MaxPool2d(2, 2)\n",
        "        self.conv3 = nn.Conv2d(64, 128, kernel_size=(3, 3), padding=1)\n",
        "        self.bn3 = nn.BatchNorm2d(128)\n",
        "        self.conv4 = nn.Conv2d(128, 256, kernel_size=(3, 3), padding=1)\n",
        "        self.pool4 = nn.MaxPool2d(2, 2)\n",
        "        self.conv5 = nn.Conv2d(256, 256, kernel_size=(2, 2), padding=0)\n",
        "        self.pool5 = nn.MaxPool2d(2, 1)\n",
        "        self.bn5 = nn.BatchNorm2d(256)\n",
        "        self.conv6 = nn.Conv2d(256, 256, kernel_size=(4, 2))\n",
        "        self.rnn = nn.LSTM(256, 128, num_layers=2, bidirectional=True, batch_first=True)\n",
        "        self.linear = nn.Linear(256, n_classes)\n",
        "\n",
        "    def forward(self, x, targets):\n",
        "        batch_size = x.shape[0]\n",
        "        out = self.conv1(x)\n",
        "        out = self.pool1(out)\n",
        "        out = F.leaky_relu(out)\n",
        "        out = self.conv2(out)\n",
        "        out = self.pool2(out)\n",
        "        out = F.leaky_relu(out)\n",
        "        out = self.conv3(out)\n",
        "        out = self.bn3(out)\n",
        "        out = F.leaky_relu(out)\n",
        "        out = self.conv4(out)\n",
        "        out = self.pool4(out)\n",
        "        out = F.leaky_relu(out)\n",
        "        out = self.conv5(out)\n",
        "        out = self.pool5(out)\n",
        "        out = self.bn5(out)\n",
        "        out = F.leaky_relu(out)\n",
        "        out = self.conv6(out)\n",
        "        out = F.leaky_relu(out)\n",
        "        out = out.squeeze(2)\n",
        "        out = out.permute(0, 2, 1) # [b, w, h, c]\n",
        "        out, _ = self.rnn(out)\n",
        "        out = self.linear(out)\n",
        "        out = out.permute(1, 0, 2)\n",
        "        log_probs = F.log_softmax(out, 2)\n",
        "        input_lengths = torch.full(size=(4,), fill_value=log_probs.size(0), dtype=torch.int32)\n",
        "        target_lengths = torch.full(size=(4,), fill_value=targets.size(1), dtype=torch.int32)\n",
        "        loss = nn.CTCLoss(blank=10)(log_probs, targets, input_lengths, target_lengths)\n",
        "\n",
        "        return out, loss\n",
        "\n"
      ]
    },
    {
      "cell_type": "code",
      "execution_count": 17,
      "metadata": {
        "colab": {
          "base_uri": "https://localhost:8080/"
        },
        "id": "gI3N5IWFDaDA",
        "outputId": "5d90f950-cdd5-4470-a4cd-c39dfc247a88"
      },
      "outputs": [
        {
          "name": "stdout",
          "output_type": "stream",
          "text": [
            "Looking in indexes: https://pypi.org/simple, https://us-python.pkg.dev/colab-wheels/public/simple/\n",
            "Collecting torchmetrics\n",
            "  Downloading torchmetrics-0.11.1-py3-none-any.whl (517 kB)\n",
            "\u001b[2K     \u001b[90m━━━━━━━━━━━━━━━━━━━━━━━━━━━━━━━━━━━━━━\u001b[0m \u001b[32m517.2/517.2 KB\u001b[0m \u001b[31m15.7 MB/s\u001b[0m eta \u001b[36m0:00:00\u001b[0m\n",
            "\u001b[?25hRequirement already satisfied: typing-extensions in /usr/local/lib/python3.8/dist-packages (from torchmetrics) (4.4.0)\n",
            "Requirement already satisfied: numpy>=1.17.2 in /usr/local/lib/python3.8/dist-packages (from torchmetrics) (1.21.6)\n",
            "Requirement already satisfied: torch>=1.8.1 in /usr/local/lib/python3.8/dist-packages (from torchmetrics) (1.13.1+cu116)\n",
            "Requirement already satisfied: packaging in /usr/local/lib/python3.8/dist-packages (from torchmetrics) (23.0)\n",
            "Installing collected packages: torchmetrics\n",
            "Successfully installed torchmetrics-0.11.1\n"
          ]
        }
      ],
      "source": [
        "pip install torchmetrics"
      ]
    },
    {
      "cell_type": "code",
      "execution_count": 18,
      "metadata": {
        "id": "rTRff2qFqUEu"
      },
      "outputs": [],
      "source": [
        "from torchmetrics.functional import char_error_rate"
      ]
    },
    {
      "cell_type": "code",
      "execution_count": 19,
      "metadata": {
        "colab": {
          "base_uri": "https://localhost:8080/"
        },
        "id": "EBH-hgQYkAAk",
        "outputId": "ffa970ae-6698-4aa3-a477-9e8616dcac85"
      },
      "outputs": [
        {
          "name": "stderr",
          "output_type": "stream",
          "text": [
            "\r  0%|          | 0/234 [00:00<?, ?it/s]<ipython-input-10-6e3cd6adde2d>:32: UserWarning: To copy construct from a tensor, it is recommended to use sourceTensor.clone().detach() or sourceTensor.clone().detach().requires_grad_(True), rather than torch.tensor(sourceTensor).\n",
            "  return torch.tensor(img, dtype=torch.float), torch.tensor(label, dtype=torch.long)\n",
            "100%|██████████| 234/234 [01:21<00:00,  2.87it/s]\n",
            "100%|██████████| 26/26 [00:02<00:00, 10.87it/s]\n"
          ]
        },
        {
          "name": "stdout",
          "output_type": "stream",
          "text": [
            "epoch 0, train loss: 3.1293254632216234, test loss: 2.945602875489455\n",
            "[('dnxdp', 'd'), ('m3wfw', 'd'), ('7bwm2', 'd'), ('3nnpw', 'd'), ('pm363', 'd'), ('x362g', 'd'), ('g247w', 'd'), ('bgb48', 'd'), ('8cm46', 'd'), ('4n3mn', 'd')]\n",
            "Epoch=0, Train Loss=3.1293254632216234, Test Loss=2.945602875489455 Accuracy=0.0 CER=4.625\n"
          ]
        },
        {
          "name": "stderr",
          "output_type": "stream",
          "text": [
            "\r  0%|          | 0/234 [00:00<?, ?it/s]<ipython-input-10-6e3cd6adde2d>:32: UserWarning: To copy construct from a tensor, it is recommended to use sourceTensor.clone().detach() or sourceTensor.clone().detach().requires_grad_(True), rather than torch.tensor(sourceTensor).\n",
            "  return torch.tensor(img, dtype=torch.float), torch.tensor(label, dtype=torch.long)\n",
            "100%|██████████| 234/234 [01:01<00:00,  3.83it/s]\n",
            "100%|██████████| 26/26 [00:02<00:00, 12.49it/s]\n"
          ]
        },
        {
          "name": "stdout",
          "output_type": "stream",
          "text": [
            "epoch 1, train loss: 2.9189328245627575, test loss: 2.9338804941910963\n",
            "[('dnxdp', 'd'), ('m3wfw', 'd'), ('7bwm2', 'd'), ('3nnpw', 'd'), ('pm363', 'd'), ('x362g', 'd'), ('g247w', 'd'), ('bgb48', 'd'), ('8cm46', 'd'), ('4n3mn', 'd')]\n",
            "Epoch=1, Train Loss=2.9189328245627575, Test Loss=2.9338804941910963 Accuracy=0.0 CER=4.625\n"
          ]
        },
        {
          "name": "stderr",
          "output_type": "stream",
          "text": [
            "\r  0%|          | 0/234 [00:00<?, ?it/s]<ipython-input-10-6e3cd6adde2d>:32: UserWarning: To copy construct from a tensor, it is recommended to use sourceTensor.clone().detach() or sourceTensor.clone().detach().requires_grad_(True), rather than torch.tensor(sourceTensor).\n",
            "  return torch.tensor(img, dtype=torch.float), torch.tensor(label, dtype=torch.long)\n",
            "100%|██████████| 234/234 [01:00<00:00,  3.87it/s]\n",
            "100%|██████████| 26/26 [00:02<00:00,  9.71it/s]\n"
          ]
        },
        {
          "name": "stdout",
          "output_type": "stream",
          "text": [
            "epoch 2, train loss: 2.8480534976364202, test loss: 2.8224500050911536\n",
            "[('dnxdp', 'd'), ('m3wfw', 'd'), ('7bwm2', 'd'), ('3nnpw', 'd'), ('pm363', 'd'), ('x362g', 'd'), ('g247w', 'd'), ('bgb48', 'd'), ('8cm46', 'd'), ('4n3mn', 'd')]\n",
            "Epoch=2, Train Loss=2.8480534976364202, Test Loss=2.8224500050911536 Accuracy=0.0 CER=4.625\n"
          ]
        },
        {
          "name": "stderr",
          "output_type": "stream",
          "text": [
            "\r  0%|          | 0/234 [00:00<?, ?it/s]<ipython-input-10-6e3cd6adde2d>:32: UserWarning: To copy construct from a tensor, it is recommended to use sourceTensor.clone().detach() or sourceTensor.clone().detach().requires_grad_(True), rather than torch.tensor(sourceTensor).\n",
            "  return torch.tensor(img, dtype=torch.float), torch.tensor(label, dtype=torch.long)\n",
            "100%|██████████| 234/234 [00:59<00:00,  3.94it/s]\n",
            "100%|██████████| 26/26 [00:02<00:00, 12.50it/s]\n"
          ]
        },
        {
          "name": "stdout",
          "output_type": "stream",
          "text": [
            "epoch 3, train loss: 2.3985045154889426, test loss: 1.959514292386862\n",
            "[('dnxdp', 'd'), ('m3wfw', 'd'), ('7bwm2', 'd'), ('3nnpw', 'd'), ('pm363', 'd'), ('x362g', 'd'), ('g247w', 'd'), ('bgb48', 'd'), ('8cm46', 'd'), ('4n3mn', 'd')]\n",
            "Epoch=3, Train Loss=2.3985045154889426, Test Loss=1.959514292386862 Accuracy=0.0 CER=4.625\n"
          ]
        },
        {
          "name": "stderr",
          "output_type": "stream",
          "text": [
            "\r  0%|          | 0/234 [00:00<?, ?it/s]<ipython-input-10-6e3cd6adde2d>:32: UserWarning: To copy construct from a tensor, it is recommended to use sourceTensor.clone().detach() or sourceTensor.clone().detach().requires_grad_(True), rather than torch.tensor(sourceTensor).\n",
            "  return torch.tensor(img, dtype=torch.float), torch.tensor(label, dtype=torch.long)\n",
            "100%|██████████| 234/234 [00:59<00:00,  3.94it/s]\n",
            "100%|██████████| 26/26 [00:02<00:00, 12.33it/s]\n"
          ]
        },
        {
          "name": "stdout",
          "output_type": "stream",
          "text": [
            "epoch 4, train loss: 1.106950832833337, test loss: 0.3418266664330776\n",
            "[('dnxdp', 'dndxdpd'), ('m3wfw', 'dnd3dwdfdwd'), ('7bwm2', 'd7dbdwdnd2d'), ('3nnpw', 'd3dndndpdwd'), ('pm363', 'dpdnd3d6d3d'), ('x362g', 'dxd3d6d2dgd'), ('g247w', 'dgd2d4d7dwd'), ('bgb48', 'dbdgdbd4d8d'), ('8cm46', 'd8dcdnd4d6d'), ('4n3mn', 'd4dnd3dmdnd')]\n",
            "Epoch=4, Train Loss=1.106950832833337, Test Loss=0.3418266664330776 Accuracy=0.0 CER=0.5694572329521179\n"
          ]
        },
        {
          "name": "stderr",
          "output_type": "stream",
          "text": [
            "\r  0%|          | 0/234 [00:00<?, ?it/s]<ipython-input-10-6e3cd6adde2d>:32: UserWarning: To copy construct from a tensor, it is recommended to use sourceTensor.clone().detach() or sourceTensor.clone().detach().requires_grad_(True), rather than torch.tensor(sourceTensor).\n",
            "  return torch.tensor(img, dtype=torch.float), torch.tensor(label, dtype=torch.long)\n",
            "100%|██████████| 234/234 [01:02<00:00,  3.74it/s]\n",
            "100%|██████████| 26/26 [00:02<00:00, 12.47it/s]\n"
          ]
        },
        {
          "name": "stdout",
          "output_type": "stream",
          "text": [
            "epoch 5, train loss: 0.06320766338871585, test loss: 0.003984422637866094\n",
            "[('dnxdp', 'dndxdpd'), ('m3wfw', 'dmd3dwdfdwd'), ('7bwm2', 'd7dbdwdmd2d'), ('3nnpw', 'd3dndndpdwd'), ('pm363', 'dpdnd3d6d3d'), ('x362g', 'dxd3d6d2dgd'), ('g247w', 'dgd2d4d7dwd'), ('bgb48', 'dbdgdbd4d8d'), ('8cm46', 'd8dcdmd4d6d'), ('4n3mn', 'd4dnd3dmdnd')]\n",
            "Epoch=5, Train Loss=0.06320766338871585, Test Loss=0.003984422637866094 Accuracy=0.0 CER=0.5510948896408081\n"
          ]
        },
        {
          "name": "stderr",
          "output_type": "stream",
          "text": [
            "\r  0%|          | 0/234 [00:00<?, ?it/s]<ipython-input-10-6e3cd6adde2d>:32: UserWarning: To copy construct from a tensor, it is recommended to use sourceTensor.clone().detach() or sourceTensor.clone().detach().requires_grad_(True), rather than torch.tensor(sourceTensor).\n",
            "  return torch.tensor(img, dtype=torch.float), torch.tensor(label, dtype=torch.long)\n",
            "100%|██████████| 234/234 [00:59<00:00,  3.95it/s]\n",
            "100%|██████████| 26/26 [00:02<00:00, 12.48it/s]\n"
          ]
        },
        {
          "name": "stdout",
          "output_type": "stream",
          "text": [
            "epoch 6, train loss: -0.05348807371133923, test loss: -0.059146215279514976\n",
            "[('dnxdp', 'dndxdpd'), ('m3wfw', 'dmd3dwdfdwd'), ('7bwm2', 'd7dbdwdmd2d'), ('3nnpw', 'd3dndndpdwd'), ('pm363', 'dpdnd3d6d3d'), ('x362g', 'dxd3d6d2dgd'), ('g247w', 'dgd2d4d7dwd'), ('bgb48', 'dbdgdbd4d8d'), ('8cm46', 'd8dcdmd4d6d'), ('4n3mn', 'd4dnd3dmdnd')]\n",
            "Epoch=6, Train Loss=-0.05348807371133923, Test Loss=-0.059146215279514976 Accuracy=0.0 CER=0.5437158346176147\n"
          ]
        },
        {
          "name": "stderr",
          "output_type": "stream",
          "text": [
            "\r  0%|          | 0/234 [00:00<?, ?it/s]<ipython-input-10-6e3cd6adde2d>:32: UserWarning: To copy construct from a tensor, it is recommended to use sourceTensor.clone().detach() or sourceTensor.clone().detach().requires_grad_(True), rather than torch.tensor(sourceTensor).\n",
            "  return torch.tensor(img, dtype=torch.float), torch.tensor(label, dtype=torch.long)\n",
            "100%|██████████| 234/234 [01:01<00:00,  3.81it/s]\n",
            "100%|██████████| 26/26 [00:02<00:00, 10.47it/s]\n"
          ]
        },
        {
          "name": "stdout",
          "output_type": "stream",
          "text": [
            "epoch 7, train loss: -0.10551659335804164, test loss: -0.10287077796573822\n",
            "[('dnxdp', 'dndxdpd'), ('m3wfw', 'dmd3dwdfdwd'), ('7bwm2', 'd7dbdwdmd2d'), ('3nnpw', 'd3dndndpdwd'), ('pm363', 'dpdmd3d6d3d'), ('x362g', 'dxd3d6d2dgd'), ('g247w', 'dgd2d4d7dwd'), ('bgb48', 'dbdgdbd4d8d'), ('8cm46', 'd8dcdmd4d6d'), ('4n3mn', 'd4dnd3dmdnd')]\n",
            "Epoch=7, Train Loss=-0.10551659335804164, Test Loss=-0.10287077796573822 Accuracy=0.0 CER=0.5419707894325256\n"
          ]
        },
        {
          "name": "stderr",
          "output_type": "stream",
          "text": [
            "\r  0%|          | 0/234 [00:00<?, ?it/s]<ipython-input-10-6e3cd6adde2d>:32: UserWarning: To copy construct from a tensor, it is recommended to use sourceTensor.clone().detach() or sourceTensor.clone().detach().requires_grad_(True), rather than torch.tensor(sourceTensor).\n",
            "  return torch.tensor(img, dtype=torch.float), torch.tensor(label, dtype=torch.long)\n",
            "100%|██████████| 234/234 [01:01<00:00,  3.84it/s]\n",
            "100%|██████████| 26/26 [00:02<00:00, 11.88it/s]\n"
          ]
        },
        {
          "name": "stdout",
          "output_type": "stream",
          "text": [
            "epoch 8, train loss: -0.12124207560928205, test loss: -0.10970070743216918\n",
            "[('dnxdp', 'dndxdpd'), ('m3wfw', 'dmd3dwdfdwd'), ('7bwm2', 'd7dbdwdmd2d'), ('3nnpw', 'd3dndndpdwd'), ('pm363', 'dpdmd3d6d3d'), ('x362g', 'dxd3d6d2dgd'), ('g247w', 'dgd2d4d7dwd'), ('bgb48', 'dbdgdbd4d8d'), ('8cm46', 'd8dcdmd4d6d'), ('4n3mn', 'd4dnd3dmdnd')]\n",
            "Epoch=8, Train Loss=-0.12124207560928205, Test Loss=-0.10970070743216918 Accuracy=0.0 CER=0.5419707894325256\n"
          ]
        },
        {
          "name": "stderr",
          "output_type": "stream",
          "text": [
            "\r  0%|          | 0/234 [00:00<?, ?it/s]<ipython-input-10-6e3cd6adde2d>:32: UserWarning: To copy construct from a tensor, it is recommended to use sourceTensor.clone().detach() or sourceTensor.clone().detach().requires_grad_(True), rather than torch.tensor(sourceTensor).\n",
            "  return torch.tensor(img, dtype=torch.float), torch.tensor(label, dtype=torch.long)\n",
            "100%|██████████| 234/234 [01:16<00:00,  3.06it/s]\n",
            "100%|██████████| 26/26 [00:03<00:00,  8.26it/s]\n"
          ]
        },
        {
          "name": "stdout",
          "output_type": "stream",
          "text": [
            "epoch 9, train loss: -0.12276643441201976, test loss: -0.11128565235636555\n",
            "[('dnxdp', 'dndxdpd'), ('m3wfw', 'dmd3dwdfdwd'), ('7bwm2', 'd7dbdwdmd2d'), ('3nnpw', 'd3dndndpdwd'), ('pm363', 'dpdmd3d6d3d'), ('x362g', 'dxd3d6d2dgd'), ('g247w', 'dgd2d4d7dwd'), ('bgb48', 'dbdgdbd4d8d'), ('8cm46', 'd8dcdmd4d6d'), ('4n3mn', 'd4dnd3dmdnd')]\n",
            "Epoch=9, Train Loss=-0.12276643441201976, Test Loss=-0.11128565235636555 Accuracy=0.0 CER=0.5419707894325256\n"
          ]
        },
        {
          "name": "stderr",
          "output_type": "stream",
          "text": [
            "\r  0%|          | 0/234 [00:00<?, ?it/s]<ipython-input-10-6e3cd6adde2d>:32: UserWarning: To copy construct from a tensor, it is recommended to use sourceTensor.clone().detach() or sourceTensor.clone().detach().requires_grad_(True), rather than torch.tensor(sourceTensor).\n",
            "  return torch.tensor(img, dtype=torch.float), torch.tensor(label, dtype=torch.long)\n",
            "100%|██████████| 234/234 [01:12<00:00,  3.21it/s]\n",
            "100%|██████████| 26/26 [00:02<00:00, 12.55it/s]\n"
          ]
        },
        {
          "name": "stdout",
          "output_type": "stream",
          "text": [
            "epoch 10, train loss: -0.1130049961587239, test loss: 0.05054385573245012\n",
            "[('dnxdp', 'dndxdpd'), ('m3wfw', 'dmd3dwdfdwd'), ('7bwm2', 'd7dbdwdmd2d'), ('3nnpw', 'd3dwdndpdwd'), ('pm363', 'dpdmd6d3d'), ('x362g', 'dxd3d6d2dgd'), ('g247w', 'dgd2d4d7dwd'), ('bgb48', 'dbdgdbd4d8d'), ('8cm46', 'd8dcdwd4d6d'), ('4n3mn', 'd4dnd3dwdnd')]\n",
            "Epoch=10, Train Loss=-0.1130049961587239, Test Loss=0.05054385573245012 Accuracy=0.0 CER=0.5558608174324036\n"
          ]
        },
        {
          "name": "stderr",
          "output_type": "stream",
          "text": [
            "\r  0%|          | 0/234 [00:00<?, ?it/s]<ipython-input-10-6e3cd6adde2d>:32: UserWarning: To copy construct from a tensor, it is recommended to use sourceTensor.clone().detach() or sourceTensor.clone().detach().requires_grad_(True), rather than torch.tensor(sourceTensor).\n",
            "  return torch.tensor(img, dtype=torch.float), torch.tensor(label, dtype=torch.long)\n",
            "100%|██████████| 234/234 [01:00<00:00,  3.84it/s]\n",
            "100%|██████████| 26/26 [00:03<00:00,  8.65it/s]\n"
          ]
        },
        {
          "name": "stdout",
          "output_type": "stream",
          "text": [
            "epoch 11, train loss: -0.12205477902848814, test loss: -0.11748539953707503\n",
            "[('dnxdp', 'dndxdpd'), ('m3wfw', 'dmd3dwdfdwd'), ('7bwm2', 'd7dbdwdmd2d'), ('3nnpw', 'd3dndndpdwd'), ('pm363', 'dpdmd3d6d3d'), ('x362g', 'dxd3d6d2dgd'), ('g247w', 'dgd2d4d7dwd'), ('bgb48', 'dbdgdbd4d8d'), ('8cm46', 'd8dcdmd4d6d'), ('4n3mn', 'd4dnd3dmdnd')]\n",
            "Epoch=11, Train Loss=-0.12205477902848814, Test Loss=-0.11748539953707503 Accuracy=0.0 CER=0.5419707894325256\n"
          ]
        },
        {
          "name": "stderr",
          "output_type": "stream",
          "text": [
            "\r  0%|          | 0/234 [00:00<?, ?it/s]<ipython-input-10-6e3cd6adde2d>:32: UserWarning: To copy construct from a tensor, it is recommended to use sourceTensor.clone().detach() or sourceTensor.clone().detach().requires_grad_(True), rather than torch.tensor(sourceTensor).\n",
            "  return torch.tensor(img, dtype=torch.float), torch.tensor(label, dtype=torch.long)\n",
            "100%|██████████| 234/234 [01:00<00:00,  3.84it/s]\n",
            "100%|██████████| 26/26 [00:02<00:00, 12.38it/s]\n"
          ]
        },
        {
          "name": "stdout",
          "output_type": "stream",
          "text": [
            "epoch 12, train loss: -0.1326014330574813, test loss: -0.10409213914177738\n",
            "[('dnxdp', 'dndxdpd'), ('m3wfw', 'dmd3dwdfdwd'), ('7bwm2', 'd7dbdwdmd2d'), ('3nnpw', 'd3dndndpdwd'), ('pm363', 'dpdmd3d6d3d'), ('x362g', 'dxd3d6d2dgd'), ('g247w', 'dgd2d4d7dwd'), ('bgb48', 'dbdgdbd4d8d'), ('8cm46', 'd8dcdmd4d6d'), ('4n3mn', 'd4dnd3dmdnd')]\n",
            "Epoch=12, Train Loss=-0.1326014330574813, Test Loss=-0.10409213914177738 Accuracy=0.0 CER=0.543795645236969\n"
          ]
        },
        {
          "name": "stderr",
          "output_type": "stream",
          "text": [
            "\r  0%|          | 0/234 [00:00<?, ?it/s]<ipython-input-10-6e3cd6adde2d>:32: UserWarning: To copy construct from a tensor, it is recommended to use sourceTensor.clone().detach() or sourceTensor.clone().detach().requires_grad_(True), rather than torch.tensor(sourceTensor).\n",
            "  return torch.tensor(img, dtype=torch.float), torch.tensor(label, dtype=torch.long)\n",
            "100%|██████████| 234/234 [01:00<00:00,  3.87it/s]\n",
            "100%|██████████| 26/26 [00:02<00:00, 11.37it/s]\n"
          ]
        },
        {
          "name": "stdout",
          "output_type": "stream",
          "text": [
            "epoch 13, train loss: -0.13388551930343717, test loss: -0.12040298159878987\n",
            "[('dnxdp', 'dndxdpd'), ('m3wfw', 'dmd3dwdfdwd'), ('7bwm2', 'd7dbdwdmd2d'), ('3nnpw', 'd3dndndpdwd'), ('pm363', 'dpdmd3d6d3d'), ('x362g', 'dxd3d6d2dgd'), ('g247w', 'dgd2d4d7dwd'), ('bgb48', 'dbdgdbd4d8d'), ('8cm46', 'd8dcdmd4d6d'), ('4n3mn', 'd4dnd3dmdnd')]\n",
            "Epoch=13, Train Loss=-0.13388551930343717, Test Loss=-0.12040298159878987 Accuracy=0.0 CER=0.5419707894325256\n"
          ]
        },
        {
          "name": "stderr",
          "output_type": "stream",
          "text": [
            "\r  0%|          | 0/234 [00:00<?, ?it/s]<ipython-input-10-6e3cd6adde2d>:32: UserWarning: To copy construct from a tensor, it is recommended to use sourceTensor.clone().detach() or sourceTensor.clone().detach().requires_grad_(True), rather than torch.tensor(sourceTensor).\n",
            "  return torch.tensor(img, dtype=torch.float), torch.tensor(label, dtype=torch.long)\n",
            "100%|██████████| 234/234 [01:00<00:00,  3.88it/s]\n",
            "100%|██████████| 26/26 [00:02<00:00, 10.73it/s]\n"
          ]
        },
        {
          "name": "stdout",
          "output_type": "stream",
          "text": [
            "epoch 14, train loss: -0.12034185464955612, test loss: -0.11576414971540754\n",
            "[('dnxdp', 'dndxdpd'), ('m3wfw', 'dmd3dwdfdwd'), ('7bwm2', 'd7dbdwdmd2d'), ('3nnpw', 'd3dndndpdwd'), ('pm363', 'dpdmd3d6d3d'), ('x362g', 'dxd3d6d2dgd'), ('g247w', 'dgd2d4d7dwd'), ('bgb48', 'dbdgdbd4d8d'), ('8cm46', 'd8dcdmd4d6d'), ('4n3mn', 'd4dnd3dmdnd')]\n",
            "Epoch=14, Train Loss=-0.12034185464955612, Test Loss=-0.11576414971540754 Accuracy=0.0 CER=0.5420475602149963\n"
          ]
        },
        {
          "name": "stderr",
          "output_type": "stream",
          "text": [
            "\r  0%|          | 0/234 [00:00<?, ?it/s]<ipython-input-10-6e3cd6adde2d>:32: UserWarning: To copy construct from a tensor, it is recommended to use sourceTensor.clone().detach() or sourceTensor.clone().detach().requires_grad_(True), rather than torch.tensor(sourceTensor).\n",
            "  return torch.tensor(img, dtype=torch.float), torch.tensor(label, dtype=torch.long)\n",
            "100%|██████████| 234/234 [01:00<00:00,  3.84it/s]\n",
            "100%|██████████| 26/26 [00:02<00:00, 12.48it/s]\n"
          ]
        },
        {
          "name": "stdout",
          "output_type": "stream",
          "text": [
            "epoch 15, train loss: -0.13066765504519048, test loss: -0.12052406774511418\n",
            "[('dnxdp', 'dndxdpd'), ('m3wfw', 'dmd3dwdfdwd'), ('7bwm2', 'd7dbdwdmd2d'), ('3nnpw', 'd3dndndpdwd'), ('pm363', 'dpdmd3d6d3d'), ('x362g', 'dxd3d6d2dgd'), ('g247w', 'dgd2d4d7dwd'), ('bgb48', 'dbdgdbd4d8d'), ('8cm46', 'd8dcdmd4d6d'), ('4n3mn', 'd4dnd3dmdnd')]\n",
            "Epoch=15, Train Loss=-0.13066765504519048, Test Loss=-0.12052406774511418 Accuracy=0.0 CER=0.5419707894325256\n"
          ]
        },
        {
          "name": "stderr",
          "output_type": "stream",
          "text": [
            "\r  0%|          | 0/234 [00:00<?, ?it/s]<ipython-input-10-6e3cd6adde2d>:32: UserWarning: To copy construct from a tensor, it is recommended to use sourceTensor.clone().detach() or sourceTensor.clone().detach().requires_grad_(True), rather than torch.tensor(sourceTensor).\n",
            "  return torch.tensor(img, dtype=torch.float), torch.tensor(label, dtype=torch.long)\n",
            "100%|██████████| 234/234 [01:01<00:00,  3.82it/s]\n",
            "100%|██████████| 26/26 [00:03<00:00,  8.44it/s]\n"
          ]
        },
        {
          "name": "stdout",
          "output_type": "stream",
          "text": [
            "epoch 16, train loss: -0.13323813181521738, test loss: -0.11491303520205502\n",
            "[('dnxdp', 'dndxdpd'), ('m3wfw', 'dmd3dwdfdwd'), ('7bwm2', 'd7dbdwdmd2d'), ('3nnpw', 'd3dndndpdwd'), ('pm363', 'dpdmd3d6d3d'), ('x362g', 'dxd3d6d2dgd'), ('g247w', 'dgd2d4d7dwd'), ('bgb48', 'dbdgdbd4d8d'), ('8cm46', 'd8dcdmd4d6d'), ('4n3mn', 'd4dnd3dmdnd')]\n",
            "Epoch=16, Train Loss=-0.13323813181521738, Test Loss=-0.11491303520205502 Accuracy=0.0 CER=0.5428832173347473\n"
          ]
        },
        {
          "name": "stderr",
          "output_type": "stream",
          "text": [
            "\r  0%|          | 0/234 [00:00<?, ?it/s]<ipython-input-10-6e3cd6adde2d>:32: UserWarning: To copy construct from a tensor, it is recommended to use sourceTensor.clone().detach() or sourceTensor.clone().detach().requires_grad_(True), rather than torch.tensor(sourceTensor).\n",
            "  return torch.tensor(img, dtype=torch.float), torch.tensor(label, dtype=torch.long)\n",
            "100%|██████████| 234/234 [00:59<00:00,  3.91it/s]\n",
            "100%|██████████| 26/26 [00:02<00:00, 12.44it/s]\n"
          ]
        },
        {
          "name": "stdout",
          "output_type": "stream",
          "text": [
            "epoch 17, train loss: -0.12370349905795903, test loss: -0.11093054027654804\n",
            "[('dnxdp', 'dndxdpd'), ('m3wfw', 'dmd3dwdfdwd'), ('7bwm2', 'd7dbdwdmd2d'), ('3nnpw', 'd3dndndpdwd'), ('pm363', 'dpdmd3d6d3d'), ('x362g', 'dxd3d6d2dgd'), ('g247w', 'dgd2d4d7dwd'), ('bgb48', 'dbdgdbd4d8d'), ('8cm46', 'd8dcdmd4d6d'), ('4n3mn', 'd4dnd3dmdnd')]\n",
            "Epoch=17, Train Loss=-0.12370349905795903, Test Loss=-0.11093054027654804 Accuracy=0.0 CER=0.5420475602149963\n"
          ]
        },
        {
          "name": "stderr",
          "output_type": "stream",
          "text": [
            "\r  0%|          | 0/234 [00:00<?, ?it/s]<ipython-input-10-6e3cd6adde2d>:32: UserWarning: To copy construct from a tensor, it is recommended to use sourceTensor.clone().detach() or sourceTensor.clone().detach().requires_grad_(True), rather than torch.tensor(sourceTensor).\n",
            "  return torch.tensor(img, dtype=torch.float), torch.tensor(label, dtype=torch.long)\n",
            "100%|██████████| 234/234 [00:59<00:00,  3.95it/s]\n",
            "100%|██████████| 26/26 [00:02<00:00, 12.30it/s]\n"
          ]
        },
        {
          "name": "stdout",
          "output_type": "stream",
          "text": [
            "epoch 18, train loss: -0.13083314889858866, test loss: -0.12059138922128253\n",
            "[('dnxdp', 'dndxdpd'), ('m3wfw', 'dmd3dwdfdwd'), ('7bwm2', 'd7dbdwdmd2d'), ('3nnpw', 'd3dndndpdwd'), ('pm363', 'dpdmd3d6d3d'), ('x362g', 'dxd3d6d2dgd'), ('g247w', 'dgd2d4d7dwd'), ('bgb48', 'dbdgdbd4d8d'), ('8cm46', 'd8dcdmd4d6d'), ('4n3mn', 'd4dnd3dmdnd')]\n",
            "Epoch=18, Train Loss=-0.13083314889858866, Test Loss=-0.12059138922128253 Accuracy=0.0 CER=0.5419707894325256\n"
          ]
        },
        {
          "name": "stderr",
          "output_type": "stream",
          "text": [
            "\r  0%|          | 0/234 [00:00<?, ?it/s]<ipython-input-10-6e3cd6adde2d>:32: UserWarning: To copy construct from a tensor, it is recommended to use sourceTensor.clone().detach() or sourceTensor.clone().detach().requires_grad_(True), rather than torch.tensor(sourceTensor).\n",
            "  return torch.tensor(img, dtype=torch.float), torch.tensor(label, dtype=torch.long)\n",
            "100%|██████████| 234/234 [00:59<00:00,  3.94it/s]\n",
            "100%|██████████| 26/26 [00:02<00:00, 10.70it/s]\n"
          ]
        },
        {
          "name": "stdout",
          "output_type": "stream",
          "text": [
            "epoch 19, train loss: -0.1353358458667898, test loss: -0.12640478641081315\n",
            "[('dnxdp', 'dndxdpd'), ('m3wfw', 'dmd3dwdfdwd'), ('7bwm2', 'd7dbdwdmd2d'), ('3nnpw', 'd3dndndpdwd'), ('pm363', 'dpdmd3d6d3d'), ('x362g', 'dxd3d6d2dgd'), ('g247w', 'dgd2d4d7dwd'), ('bgb48', 'dbdgdbd4d8d'), ('8cm46', 'd8dcdmd4d6d'), ('4n3mn', 'd4dnd3dmdnd')]\n",
            "Epoch=19, Train Loss=-0.1353358458667898, Test Loss=-0.12640478641081315 Accuracy=0.0 CER=0.5419707894325256\n",
            "final cer tensor(0.5420)\n"
          ]
        }
      ],
      "source": [
        "model = CRNN()\n",
        "model.to(device)\n",
        "\n",
        "optimizer = torch.optim.Adam(model.parameters(), lr=3e-4)\n",
        "scheduler = torch.optim.lr_scheduler.ReduceLROnPlateau(\n",
        "    optimizer, factor=0.8, patience=5, verbose=True\n",
        ")\n",
        "for epoch in range(20):\n",
        "    train_loss = train_fn(model, train_loader, optimizer)\n",
        "    valid_preds, test_loss = eval_fn(model, test_loader)\n",
        "    print(f'epoch {epoch}, train loss: {train_loss}, test loss: {test_loss}')\n",
        "    valid_captcha_preds = []\n",
        "    # print('len valid_preds', len(valid_preds))\n",
        "    # print('valid_preds', valid_preds[0].shape)\n",
        "    for vp in valid_preds:\n",
        "        current_preds = decode_predictions(vp, lbl_enc)\n",
        "        valid_captcha_preds.extend(current_preds)\n",
        "    # print('current_preds', current_preds)\n",
        "    # print('valid_captcha_preds', valid_captcha_preds)\n",
        "    combined = list(zip(test_targets_orig, valid_captcha_preds))\n",
        "    print(combined[:10])\n",
        "    test_dup_rem = [remove_duplicates(c) for c in test_targets_orig]\n",
        "    # print('test_dup_rem', test_dup_rem)\n",
        "    accuracy = accuracy_score(test_dup_rem, valid_captcha_preds)\n",
        "    cer = char_error_rate(test_dup_rem, valid_captcha_preds)\n",
        "    print(\n",
        "        f\"Epoch={epoch}, Train Loss={train_loss}, Test Loss={test_loss} Accuracy={accuracy} CER={cer}\"\n",
        "    )\n",
        "    scheduler.step(test_loss)\n",
        "print('final cer', cer)"
      ]
    },
    {
      "cell_type": "markdown",
      "metadata": {
        "id": "4ow3_ggtjr9A"
      },
      "source": [
        "Улучшение модели было произведено засчет клиппинга градиентов и увеличением числа эпох, до этого прогнозировались пустые значения или одна и та же последовательность длиной 1. "
      ]
    },
    {
      "cell_type": "code",
      "execution_count": null,
      "metadata": {
        "id": "8Lf8vOFsLBEm"
      },
      "outputs": [],
      "source": []
    },
    {
      "cell_type": "code",
      "execution_count": null,
      "metadata": {
        "id": "a2js_dsyLBJv"
      },
      "outputs": [],
      "source": []
    }
  ],
  "metadata": {
    "colab": {
      "provenance": []
    },
    "kernelspec": {
      "display_name": "Python 3.9.13 ('.venv': venv)",
      "language": "python",
      "name": "python3"
    },
    "language_info": {
      "name": "python",
      "version": "3.9.13"
    },
    "vscode": {
      "interpreter": {
        "hash": "9ce8a0452749bc4b5f03b6e5df3595212fc7910e9903d106d143563d7de8650a"
      }
    }
  },
  "nbformat": 4,
  "nbformat_minor": 0
}
